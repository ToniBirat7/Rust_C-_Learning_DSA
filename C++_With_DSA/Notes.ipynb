{
 "cells": [
  {
   "cell_type": "markdown",
   "metadata": {},
   "source": [
    "## **Resources**\n",
    "<hr>\n",
    "\n",
    "[C++ Apna College](https://www.youtube.com/playlist?list=PLfqMhTWNBTe0b2nM6JHVCnAkhQRGiZMSJ)\n",
    "\n",
    "**Articles**\n",
    "\n",
    "[Standard_C++_Library](https://www.linkedin.com/learning/complete-guide-to-c-plus-plus-programming-foundations/articles/the-c-plus-plus-standard-library?resume=false&u=42288921)\n",
    "\n",
    "[Qualifiers](https://www.linkedin.com/learning/complete-guide-to-c-plus-plus-programming-foundations/articles/qualifiers?resume=false&u=42288921)\n",
    "\n"
   ]
  },
  {
   "cell_type": "markdown",
   "metadata": {},
   "source": [
    "## **Working of Compiled Language**\n",
    "\n",
    "Compiles from top to bottom. \n",
    "\n",
    "### **Difference between Namespace and Preprocessor Directives**\n",
    "\n",
    "**Include**\n",
    "\n",
    "When you write `#include <iostream>`, for example, you're telling the compiler to bring in the header file for the I/O stream library (which contains functions like `std::cout` for printing to the console, etc.).\n",
    "\n",
    "The purpose of `#include` is to allow your program to use functions, classes, and objects that are defined in other files (typically libraries or other modules).\n",
    "\n",
    "**NameSpace**\n",
    "\n",
    "In C++, the `std` namespace is a standard library namespace that contains many of the useful functions, classes, and objects, such as `std::cout`, `std::cin`, `std::string`, etc.\n",
    "\n",
    "Think of a namespace as a container that organizes code into logical groups. The `std` namespace specifically contains all the components of the C++ standard library.\n",
    "\n",
    "Now, the reason for the `namespace std;` line is to avoid having to prefix everything with `std::` every time you want to use a standard library feature.\n",
    "\n",
    "**Concluding Notes**\n",
    "\n",
    "- `#include <iostream>` is a directive, but it brings in more than just a \"directive.\" It's a library that contains functionality for input/output (I/O) operations.\n",
    "\n",
    "When you include `#include <iostream>,` you're not just telling the program to look for a \"directive.\" You're telling the compiler to load the I/O stream library that defines things like s`td::cout` and `std::cin`, which are part of C++'s standard library.\n",
    "\n",
    "and, \n",
    "\n",
    "`std::` is not a class, but a way to organize related code together to avoid name conflicts. All, the objects or functions can be accessed via this namespace in my program. A namespace holds the imported functions, and objects into a single memeory through which we can access them. "
   ]
  },
  {
   "cell_type": "markdown",
   "metadata": {},
   "source": [
    "## **Data Types**\n",
    "<hr>\n",
    "\n",
    "**int** : 4 Bytes\n",
    "**char** : 1 Byte\n",
    "**float** : 4 Bytes\n",
    "**bool** : 1 Bit\n",
    "**double** : 8 Bytes"
   ]
  },
  {
   "cell_type": "markdown",
   "metadata": {},
   "source": [
    "## **Type Casting** \n",
    "<hr>\n",
    "\n",
    "In `C++` one data type to another the compiler will try to cast it's value implicitly if possible. For example, if we cast `char ch = 'A';` to a `int a = ch` then we will get `65` as output because the `ASCII` value of `A` is 65. \n",
    "\n",
    "#### **Casting Big Data Types to Small (Explicity)**\n",
    "\n",
    "```C++\n",
    "\n",
    "int explicit_type_casting() {\n",
    "\n",
    "    double a = 65.5;\n",
    "    int b = (int)a;\n",
    "\n",
    "    cout << \"The value of \" << a << \" is \" << b << endl;\n",
    "\n",
    "    return 0;\n",
    "}\n",
    "\n",
    "```"
   ]
  },
  {
   "cell_type": "markdown",
   "metadata": {},
   "source": [
    "## **Inputs**\n",
    "<hr>\n",
    "\n",
    "`cin >> age;`\n",
    "\n",
    "Here, `cin` and `cout` are global objects in `C` not functions as in other programming languages. \n",
    "\n"
   ]
  },
  {
   "cell_type": "markdown",
   "metadata": {},
   "source": [
    "## **Operators**\n",
    "<hr>\n",
    "\n",
    "- Artihmetic : +,-,*,/\n",
    "- Relational : <,>,=\n",
    "- Logical : OR `||`, AND `&&`, NOT `!`\n",
    "- Bitwise Operators :  \n",
    "- Uninary Operators : ++, -- \n",
    "\n",
    "  - Study about Pre and Post Increament and Decrement\n",
    "\n",
    "- Ternary Operator : `condition ? stt1 : stt2;`\n",
    "- Insertion Operator : `<<` Sends data to the `cout`\n",
    "- Extraction Opeartor : `>>` Takes data from the `cin`\n",
    "\n",
    "**Pre and Post**\n",
    "\n",
    "  - `a++` (Post Increament) : First Assignment then Increment. Another variable will be assigned the original value of `A` first, then the value is `A` is increased.\n",
    "  - `++a` (Pre Increment) : First Increment and then Assignment. `A` is increased by 1 first then, another varibale will have the incread the value of `A`. So both the values will have the increased value. \n",
    "\n",
    "**Note**\n",
    "\n",
    "- int/int => Int\n",
    "- int/float => float\n",
    "- float/int => float"
   ]
  },
  {
   "cell_type": "markdown",
   "metadata": {},
   "source": [
    "## **Conditional Statements**\n",
    "<hr>\n",
    "\n",
    "```C++\n",
    "\n",
    "void conditional_satements(int age) {\n",
    "    if (age >=100) {\n",
    "        cout << \"You are above 100\" << endl;\n",
    "    } else if (age >= 18) {\n",
    "        cout << \"You are an adult\" << endl;\n",
    "    } else {\n",
    "        cout << \"You are a kid\" << endl;\n",
    "    }\n",
    "}\n",
    "\n",
    "```"
   ]
  },
  {
   "cell_type": "markdown",
   "metadata": {},
   "source": [
    "## Loops \n",
    "<hr>\n",
    "\n",
    "```C++\n",
    "void loopings(int num) {\n",
    "    int count = 1;\n",
    "\n",
    "    cout << \"While Loop Activated\" << endl;\n",
    "\n",
    "    while(count <= 5) {\n",
    "        cout << \"The Iterator is : \" << count << endl;\n",
    "        count++;\n",
    "    }\n",
    "\n",
    "    cout << \"For Loop Activated\" << endl;\n",
    "\n",
    "    count = 1;\n",
    "\n",
    "    for(count; count <= 5; count++) {\n",
    "        cout << \"The Iterator is : \" << count << endl;\n",
    "    }\n",
    "\n",
    "}\n",
    "```"
   ]
  },
  {
   "cell_type": "markdown",
   "metadata": {},
   "source": [
    "# **Problem Solving**\n",
    "\n",
    "Find if the given character is Upper Case or Lower Case\n",
    "\n",
    "**Logic** : The `ASCII` value for `A` is 65, `Z` is 90. If the character lies in this range then it's Upper Case else Lower. \n",
    "\n",
    "```C++\n",
    "\n",
    "void check_case(char ch) {\n",
    "\n",
    "    if (ch >= 'a' && ch <= 'z'){\n",
    "        cout << \"The Character is Lower Case\" << endl;\n",
    "    }\n",
    "    else {\n",
    "        cout << \"The Character is Upper Case\" << endl;\n",
    "    }\n",
    "\n",
    "}\n",
    "\n",
    "```"
   ]
  }
 ],
 "metadata": {
  "language_info": {
   "name": "python"
  }
 },
 "nbformat": 4,
 "nbformat_minor": 2
}
