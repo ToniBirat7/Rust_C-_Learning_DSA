{
 "cells": [
  {
   "cell_type": "markdown",
   "metadata": {},
   "source": [
    "## **Data Types**\n",
    "<hr>\n",
    "\n",
    "**int** : 4 Bytes\n",
    "**char** : 1 Byte\n",
    "**float** : 4 Bytes\n",
    "**bool** : 1 Bit\n",
    "**double** : 8 Bytes"
   ]
  },
  {
   "cell_type": "markdown",
   "metadata": {},
   "source": [
    "## **Type Casting** \n",
    "<hr>\n",
    "\n",
    "In `C++` one data type to another the compiler will try to cast it's value implicitly if possible. For example, if we cast `char ch = 'A';` to a `int a = ch` then we will get `65` as output because the `ASCII` value of `A` is 65. \n",
    "\n",
    "#### **Casting Big Data Types to Small (Explicity)**\n",
    "\n",
    "```C++\n",
    "\n",
    "int explicit_type_casting() {\n",
    "\n",
    "    double a = 65.5;\n",
    "    int b = (int)a;\n",
    "\n",
    "    cout << \"The value of \" << a << \" is \" << b << endl;\n",
    "\n",
    "    return 0;\n",
    "}\n",
    "\n",
    "```"
   ]
  },
  {
   "cell_type": "markdown",
   "metadata": {},
   "source": [
    "## Next Day Cont...\n",
    "\n",
    "[Input in C](https://www.youtube.com/watch?v=Dxu7GKtdbnA&list=PLfqMhTWNBTe0b2nM6JHVCnAkhQRGiZMSJ&index=3)"
   ]
  }
 ],
 "metadata": {
  "language_info": {
   "name": "python"
  }
 },
 "nbformat": 4,
 "nbformat_minor": 2
}
